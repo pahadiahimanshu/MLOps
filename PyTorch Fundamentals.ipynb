{
 "cells": [
  {
   "cell_type": "code",
   "execution_count": 1,
   "metadata": {},
   "outputs": [],
   "source": [
    "import numpy as np\n",
    "import torch"
   ]
  },
  {
   "cell_type": "code",
   "execution_count": 2,
   "metadata": {},
   "outputs": [
    {
     "data": {
      "text/plain": [
       "<torch._C.Generator at 0x106a5b9f0>"
      ]
     },
     "execution_count": 2,
     "metadata": {},
     "output_type": "execute_result"
    }
   ],
   "source": [
    "SEED = 1234\n",
    "np.random.seed(seed=SEED)\n",
    "torch.manual_seed(SEED)"
   ]
  },
  {
   "cell_type": "markdown",
   "metadata": {},
   "source": [
    "# Creating Tensors"
   ]
  },
  {
   "cell_type": "code",
   "execution_count": 13,
   "metadata": {},
   "outputs": [],
   "source": [
    "x = torch.randn(2, 3)"
   ]
  },
  {
   "cell_type": "code",
   "execution_count": 14,
   "metadata": {},
   "outputs": [
    {
     "name": "stdout",
     "output_type": "stream",
     "text": [
      "Type: torch.FloatTensor\n",
      "Size: torch.Size([2, 3])\n",
      "Values: \n",
      "tensor([[-0.0098, -1.4473, -0.2039],\n",
      "        [ 0.8738, -0.6816,  0.6339]])\n"
     ]
    }
   ],
   "source": [
    "print(f\"Type: {x.type()}\")\n",
    "print(f\"Size: {x.shape}\")\n",
    "print(f\"Values: \\n{x}\")"
   ]
  },
  {
   "cell_type": "code",
   "execution_count": 15,
   "metadata": {},
   "outputs": [
    {
     "name": "stdout",
     "output_type": "stream",
     "text": [
      "tensor([[0., 0., 0.],\n",
      "        [0., 0., 0.],\n",
      "        [0., 0., 0.]])\n",
      "tensor([[1., 1., 1.],\n",
      "        [1., 1., 1.]])\n"
     ]
    }
   ],
   "source": [
    "x = torch.zeros(3, 3)\n",
    "print (x)\n",
    "x = torch.ones(2, 3)\n",
    "print (x)"
   ]
  },
  {
   "cell_type": "markdown",
   "metadata": {},
   "source": [
    "# List/NpArray to Tensors"
   ]
  },
  {
   "cell_type": "code",
   "execution_count": 16,
   "metadata": {},
   "outputs": [
    {
     "name": "stdout",
     "output_type": "stream",
     "text": [
      "Size: torch.Size([2, 3])\n",
      "Values: \n",
      "tensor([[1., 2., 3.],\n",
      "        [4., 5., 6.]])\n"
     ]
    }
   ],
   "source": [
    "x = torch.Tensor([[1, 2, 3],[4, 5, 6]])\n",
    "print(f\"Size: {x.shape}\")\n",
    "print(f\"Values: \\n{x}\")"
   ]
  },
  {
   "cell_type": "code",
   "execution_count": 17,
   "metadata": {},
   "outputs": [
    {
     "name": "stdout",
     "output_type": "stream",
     "text": [
      "Size: torch.Size([2, 3])\n",
      "Values: \n",
      "tensor([[0.1915, 0.6221, 0.4377],\n",
      "        [0.7854, 0.7800, 0.2726]])\n"
     ]
    }
   ],
   "source": [
    "x = torch.Tensor(np.random.rand(2, 3))\n",
    "print(f\"Size: {x.shape}\")\n",
    "print(f\"Values: \\n{x}\")"
   ]
  },
  {
   "cell_type": "code",
   "execution_count": 18,
   "metadata": {},
   "outputs": [
    {
     "name": "stdout",
     "output_type": "stream",
     "text": [
      "Type: torch.FloatTensor\n",
      "Type: torch.LongTensor\n"
     ]
    }
   ],
   "source": [
    "# Changing tensor type\n",
    "x = torch.Tensor(3, 4)\n",
    "print(f\"Type: {x.type()}\")\n",
    "x = x.long()\n",
    "print(f\"Type: {x.type()}\")"
   ]
  },
  {
   "cell_type": "markdown",
   "metadata": {},
   "source": [
    "# Operations"
   ]
  },
  {
   "cell_type": "code",
   "execution_count": 20,
   "metadata": {},
   "outputs": [
    {
     "name": "stdout",
     "output_type": "stream",
     "text": [
      "tensor([[ 0.8042, -0.1383,  0.3196],\n",
      "        [-1.0187, -1.3147,  2.5228]])\n",
      "tensor([[ 0.4501,  0.2709, -0.8087],\n",
      "        [-0.0217, -1.0413,  0.0702]])\n"
     ]
    }
   ],
   "source": [
    "# Add\n",
    "x = torch.randn(2,3)\n",
    "y = torch.randn(2,3)\n",
    "print(x)\n",
    "print(y)"
   ]
  },
  {
   "cell_type": "code",
   "execution_count": 21,
   "metadata": {},
   "outputs": [
    {
     "name": "stdout",
     "output_type": "stream",
     "text": [
      "tensor([[ 1.2543,  0.1326, -0.4892],\n",
      "        [-1.0404, -2.3561,  2.5930]])\n"
     ]
    }
   ],
   "source": [
    "z = x + y\n",
    "print(z)"
   ]
  },
  {
   "cell_type": "code",
   "execution_count": 22,
   "metadata": {},
   "outputs": [
    {
     "name": "stdout",
     "output_type": "stream",
     "text": [
      "tensor([[ 0.5797, -0.0599,  0.1816],\n",
      "        [-0.6797, -0.2567, -1.8189]])\n",
      "tensor([[0.2111, 0.3372],\n",
      "        [0.6638, 1.0397],\n",
      "        [1.8434, 0.6588]])\n"
     ]
    }
   ],
   "source": [
    "# Dot product\n",
    "x = torch.randn(2,3)\n",
    "y = torch.randn(3,2)\n",
    "print(x)\n",
    "print(y)"
   ]
  },
  {
   "cell_type": "code",
   "execution_count": 26,
   "metadata": {},
   "outputs": [
    {
     "name": "stdout",
     "output_type": "stream",
     "text": [
      "torch.Size([2, 2])\n",
      "tensor([[ 0.4173,  0.2528],\n",
      "        [-3.6668, -1.6944]])\n"
     ]
    }
   ],
   "source": [
    "# matmul\n",
    "z = torch.mm(x,y)\n",
    "print(z.shape)\n",
    "print(z)"
   ]
  },
  {
   "cell_type": "code",
   "execution_count": 29,
   "metadata": {},
   "outputs": [
    {
     "name": "stdout",
     "output_type": "stream",
     "text": [
      "tensor([[ 0.4173, -3.6668],\n",
      "        [ 0.2528, -1.6944]])\n",
      "tensor([[ 0.4173, -3.6668],\n",
      "        [ 0.2528, -1.6944]])\n"
     ]
    }
   ],
   "source": [
    "# transpose\n",
    "print(z.T)\n",
    "print(torch.t(z))"
   ]
  },
  {
   "cell_type": "code",
   "execution_count": 32,
   "metadata": {},
   "outputs": [
    {
     "name": "stdout",
     "output_type": "stream",
     "text": [
      "tensor([[ 0.4173,  0.2528],\n",
      "        [-3.6668, -1.6944]])\n",
      "tensor([[ 0.4173,  0.2528, -3.6668, -1.6944]])\n"
     ]
    }
   ],
   "source": [
    "# reshape\n",
    "print(z)\n",
    "print(z.view(1,4))"
   ]
  },
  {
   "cell_type": "code",
   "execution_count": 35,
   "metadata": {},
   "outputs": [
    {
     "name": "stdout",
     "output_type": "stream",
     "text": [
      "tensor([[ 0.5548, -0.0845,  0.5903],\n",
      "        [-1.0032, -1.7873,  0.0538]])\n",
      "tensor([-0.4484, -1.8718,  0.6441])\n",
      "tensor([ 1.0607, -2.7367])\n"
     ]
    }
   ],
   "source": [
    "# Dimensional operation\n",
    "x = torch.randn(2,3)\n",
    "print(x)\n",
    "# Sum columns\n",
    "y = torch.sum(x, dim=0)\n",
    "print(y)\n",
    "# sum rows\n",
    "z = torch.sum(x, dim=1)\n",
    "print(z)"
   ]
  },
  {
   "cell_type": "markdown",
   "metadata": {},
   "source": [
    "# Indexing"
   ]
  },
  {
   "cell_type": "code",
   "execution_count": 38,
   "metadata": {},
   "outputs": [
    {
     "name": "stdout",
     "output_type": "stream",
     "text": [
      "x: \n",
      "tensor([[-1.5864, -0.2671,  2.6874, -0.4633],\n",
      "        [ 0.6639,  0.2383,  0.8305, -0.0838],\n",
      "        [ 0.9523,  0.2016, -0.1714, -0.8164]])\n",
      "x[:1]: \n",
      "tensor([[-1.5864, -0.2671,  2.6874, -0.4633]])\n",
      "x[:1, 1:3]: \n",
      "tensor([[-0.2671,  2.6874, -0.4633],\n",
      "        [ 0.2383,  0.8305, -0.0838]])\n"
     ]
    }
   ],
   "source": [
    "x = torch.randn(3, 4)\n",
    "print (f\"x: \\n{x}\")\n",
    "print (f\"x[:1]: \\n{x[:1]}\")\n",
    "print (f\"x[:1, 1:3]: \\n{x[:2, 1:4]}\")"
   ]
  },
  {
   "cell_type": "markdown",
   "metadata": {},
   "source": [
    "# Slicing"
   ]
  },
  {
   "cell_type": "code",
   "execution_count": 45,
   "metadata": {},
   "outputs": [
    {
     "name": "stdout",
     "output_type": "stream",
     "text": [
      "tensor([[ 0.9523,  0.2016, -0.1714, -0.8164],\n",
      "        [-1.5864, -0.2671,  2.6874, -0.4633]])\n"
     ]
    }
   ],
   "source": [
    "col_indices = torch.LongTensor([2,0])\n",
    "selected = torch.index_select(x, dim=0,index = col_indices)\n",
    "print(selected)"
   ]
  },
  {
   "cell_type": "markdown",
   "metadata": {},
   "source": [
    "# joining"
   ]
  },
  {
   "cell_type": "code",
   "execution_count": 46,
   "metadata": {},
   "outputs": [
    {
     "name": "stdout",
     "output_type": "stream",
     "text": [
      "torch.Size([3, 4])\n"
     ]
    }
   ],
   "source": [
    "print(x.shape)"
   ]
  },
  {
   "cell_type": "code",
   "execution_count": 53,
   "metadata": {},
   "outputs": [
    {
     "name": "stdout",
     "output_type": "stream",
     "text": [
      "tensor([[-1.5864, -0.2671,  2.6874, -0.4633],\n",
      "        [ 0.6639,  0.2383,  0.8305, -0.0838],\n",
      "        [ 0.9523,  0.2016, -0.1714, -0.8164],\n",
      "        [-1.5864, -0.2671,  2.6874, -0.4633],\n",
      "        [ 0.6639,  0.2383,  0.8305, -0.0838],\n",
      "        [ 0.9523,  0.2016, -0.1714, -0.8164]])\n",
      "tensor([[-1.5864, -0.2671,  2.6874, -0.4633, -1.5864, -0.2671,  2.6874, -0.4633],\n",
      "        [ 0.6639,  0.2383,  0.8305, -0.0838,  0.6639,  0.2383,  0.8305, -0.0838],\n",
      "        [ 0.9523,  0.2016, -0.1714, -0.8164,  0.9523,  0.2016, -0.1714, -0.8164]])\n"
     ]
    }
   ],
   "source": [
    "print(torch.cat([x,x], dim=0))\n",
    "print(torch.cat([x,x], dim=1))"
   ]
  },
  {
   "cell_type": "code",
   "execution_count": 57,
   "metadata": {},
   "outputs": [
    {
     "name": "stdout",
     "output_type": "stream",
     "text": [
      "tensor([[[-1.5864, -0.2671,  2.6874, -0.4633],\n",
      "         [ 0.6639,  0.2383,  0.8305, -0.0838],\n",
      "         [ 0.9523,  0.2016, -0.1714, -0.8164]],\n",
      "\n",
      "        [[-1.5864, -0.2671,  2.6874, -0.4633],\n",
      "         [ 0.6639,  0.2383,  0.8305, -0.0838],\n",
      "         [ 0.9523,  0.2016, -0.1714, -0.8164]]])\n",
      "tensor([[[-1.5864, -0.2671,  2.6874, -0.4633],\n",
      "         [-1.5864, -0.2671,  2.6874, -0.4633]],\n",
      "\n",
      "        [[ 0.6639,  0.2383,  0.8305, -0.0838],\n",
      "         [ 0.6639,  0.2383,  0.8305, -0.0838]],\n",
      "\n",
      "        [[ 0.9523,  0.2016, -0.1714, -0.8164],\n",
      "         [ 0.9523,  0.2016, -0.1714, -0.8164]]])\n"
     ]
    }
   ],
   "source": [
    "print(torch.stack([x,x], dim=0))\n",
    "print(torch.stack([x,x], dim=1))"
   ]
  },
  {
   "cell_type": "markdown",
   "metadata": {},
   "source": [
    "# Gradients\n",
    "- Gradients (rate of change) of our tensors with respect to their constituents using gradient bookkeeping.\n",
    "- The gradient is a vector that points in the direction of greatest increase of a function."
   ]
  },
  {
   "cell_type": "code",
   "execution_count": 58,
   "metadata": {},
   "outputs": [
    {
     "name": "stdout",
     "output_type": "stream",
     "text": [
      "torch.FloatTensor torch.FloatTensor\n",
      "tensor([[-0.6066, -0.4800,  1.1733,  0.3714],\n",
      "        [-2.3531, -1.6705, -0.4716,  0.8130],\n",
      "        [-0.4171, -2.3476,  1.9083, -1.8304]], requires_grad=True)\n",
      "tensor([[ 0.1803,  0.5599,  5.5200,  3.1143],\n",
      "        [-5.0593, -3.0116,  0.5853,  4.4391],\n",
      "        [ 0.7487, -5.0427,  7.7248, -3.4912]], grad_fn=<AddBackward0>)\n"
     ]
    }
   ],
   "source": [
    "x = torch.randn(3,4,requires_grad = True)\n",
    "y = 3*x+2\n",
    "\n",
    "print(x.type(), y.type())\n",
    "print(x)\n",
    "\n",
    "print(y)"
   ]
  },
  {
   "cell_type": "code",
   "execution_count": 59,
   "metadata": {},
   "outputs": [
    {
     "name": "stdout",
     "output_type": "stream",
     "text": [
      "tensor(0.5223, grad_fn=<MeanBackward0>)\n",
      "tensor(0.5223, grad_fn=<MeanBackward0>)\n"
     ]
    }
   ],
   "source": [
    "z = y.mean()\n",
    "print(z)\n",
    "z.backward()\n",
    "print(z)"
   ]
  },
  {
   "cell_type": "code",
   "execution_count": 60,
   "metadata": {},
   "outputs": [
    {
     "name": "stdout",
     "output_type": "stream",
     "text": [
      "tensor([[0.2500, 0.2500, 0.2500, 0.2500],\n",
      "        [0.2500, 0.2500, 0.2500, 0.2500],\n",
      "        [0.2500, 0.2500, 0.2500, 0.2500]])\n"
     ]
    }
   ],
   "source": [
    "print(x.grad)"
   ]
  },
  {
   "cell_type": "markdown",
   "metadata": {},
   "source": [
    "# CUDA"
   ]
  },
  {
   "cell_type": "code",
   "execution_count": 61,
   "metadata": {},
   "outputs": [
    {
     "name": "stdout",
     "output_type": "stream",
     "text": [
      "False\n"
     ]
    }
   ],
   "source": [
    "print (torch.cuda.is_available())"
   ]
  },
  {
   "cell_type": "code",
   "execution_count": 62,
   "metadata": {},
   "outputs": [
    {
     "name": "stdout",
     "output_type": "stream",
     "text": [
      "cpu\n"
     ]
    }
   ],
   "source": [
    "\n",
    "# Set device\n",
    "device = torch.device(\"cuda\" if torch.cuda.is_available() else \"cpu\")\n",
    "print (device)"
   ]
  },
  {
   "cell_type": "code",
   "execution_count": 63,
   "metadata": {},
   "outputs": [
    {
     "name": "stdout",
     "output_type": "stream",
     "text": [
      "False\n",
      "False\n"
     ]
    }
   ],
   "source": [
    "x = torch.rand(2,3)\n",
    "print (x.is_cuda)\n",
    "x = torch.rand(2,3).to(device) # Tensor is stored on the GPU\n",
    "print (x.is_cuda)"
   ]
  },
  {
   "cell_type": "code",
   "execution_count": null,
   "metadata": {},
   "outputs": [],
   "source": []
  }
 ],
 "metadata": {
  "kernelspec": {
   "display_name": "Python 3",
   "language": "python",
   "name": "python3"
  },
  "language_info": {
   "codemirror_mode": {
    "name": "ipython",
    "version": 3
   },
   "file_extension": ".py",
   "mimetype": "text/x-python",
   "name": "python",
   "nbconvert_exporter": "python",
   "pygments_lexer": "ipython3",
   "version": "3.7.3"
  }
 },
 "nbformat": 4,
 "nbformat_minor": 4
}
